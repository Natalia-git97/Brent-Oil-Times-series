{
  "nbformat": 4,
  "nbformat_minor": 0,
  "metadata": {
    "colab": {
      "name": "Brent-Oil Linear Regression.ipynb",
      "provenance": [],
      "authorship_tag": "ABX9TyPrydysmUumZ8XSxfyI0U6Y",
      "include_colab_link": true
    },
    "kernelspec": {
      "name": "python3",
      "display_name": "Python 3"
    },
    "language_info": {
      "name": "python"
    }
  },
  "cells": [
    {
      "cell_type": "markdown",
      "metadata": {
        "id": "view-in-github",
        "colab_type": "text"
      },
      "source": [
        "<a href=\"https://colab.research.google.com/github/Natalia-git97/Brent-Oil-Times-series/blob/main/Brent_Oil_Linear_Regression.ipynb\" target=\"_parent\"><img src=\"https://colab.research.google.com/assets/colab-badge.svg\" alt=\"Open In Colab\"/></a>"
      ]
    },
    {
      "cell_type": "markdown",
      "metadata": {
        "id": "F1cj9NYn2FDU"
      },
      "source": [
        "Brent oil - linear regression, with data ordinaal\n",
        "\n"
      ]
    },
    {
      "cell_type": "code",
      "metadata": {
        "id": "OHckCicj8oco"
      },
      "source": [
        "import pandas as pd\n",
        "import numpy as np\n",
        "import matplotlib.pyplot as plt\n"
      ],
      "execution_count": null,
      "outputs": []
    },
    {
      "cell_type": "code",
      "metadata": {
        "colab": {
          "base_uri": "https://localhost:8080/"
        },
        "id": "TOAsj6dI5O21",
        "outputId": "6204f156-8a3b-4661-ff6b-56f56e55f460"
      },
      "source": [
        "from google.colab import drive\n",
        "drive.mount('/content/drive')"
      ],
      "execution_count": null,
      "outputs": [
        {
          "output_type": "stream",
          "text": [
            "Mounted at /content/drive\n"
          ],
          "name": "stdout"
        }
      ]
    },
    {
      "cell_type": "code",
      "metadata": {
        "id": "i5IMZmw89OYR"
      },
      "source": [
        "data = pd.read_csv('/content/drive/MyDrive/Colab Notebooks/BrentOilPrices.csv')"
      ],
      "execution_count": null,
      "outputs": []
    },
    {
      "cell_type": "code",
      "metadata": {
        "colab": {
          "base_uri": "https://localhost:8080/",
          "height": 419
        },
        "id": "LV5Wwi6n9QO4",
        "outputId": "3fe8b42d-910d-433a-b564-c07397b96d61"
      },
      "source": [
        "data"
      ],
      "execution_count": null,
      "outputs": [
        {
          "output_type": "execute_result",
          "data": {
            "text/html": [
              "<div>\n",
              "<style scoped>\n",
              "    .dataframe tbody tr th:only-of-type {\n",
              "        vertical-align: middle;\n",
              "    }\n",
              "\n",
              "    .dataframe tbody tr th {\n",
              "        vertical-align: top;\n",
              "    }\n",
              "\n",
              "    .dataframe thead th {\n",
              "        text-align: right;\n",
              "    }\n",
              "</style>\n",
              "<table border=\"1\" class=\"dataframe\">\n",
              "  <thead>\n",
              "    <tr style=\"text-align: right;\">\n",
              "      <th></th>\n",
              "      <th>Date</th>\n",
              "      <th>Price</th>\n",
              "    </tr>\n",
              "  </thead>\n",
              "  <tbody>\n",
              "    <tr>\n",
              "      <th>0</th>\n",
              "      <td>20-May-87</td>\n",
              "      <td>18.63</td>\n",
              "    </tr>\n",
              "    <tr>\n",
              "      <th>1</th>\n",
              "      <td>21-May-87</td>\n",
              "      <td>18.45</td>\n",
              "    </tr>\n",
              "    <tr>\n",
              "      <th>2</th>\n",
              "      <td>22-May-87</td>\n",
              "      <td>18.55</td>\n",
              "    </tr>\n",
              "    <tr>\n",
              "      <th>3</th>\n",
              "      <td>25-May-87</td>\n",
              "      <td>18.60</td>\n",
              "    </tr>\n",
              "    <tr>\n",
              "      <th>4</th>\n",
              "      <td>26-May-87</td>\n",
              "      <td>18.63</td>\n",
              "    </tr>\n",
              "    <tr>\n",
              "      <th>...</th>\n",
              "      <td>...</td>\n",
              "      <td>...</td>\n",
              "    </tr>\n",
              "    <tr>\n",
              "      <th>8549</th>\n",
              "      <td>Jan 19, 2021</td>\n",
              "      <td>55.38</td>\n",
              "    </tr>\n",
              "    <tr>\n",
              "      <th>8550</th>\n",
              "      <td>Jan 20, 2021</td>\n",
              "      <td>55.66</td>\n",
              "    </tr>\n",
              "    <tr>\n",
              "      <th>8551</th>\n",
              "      <td>Jan 21, 2021</td>\n",
              "      <td>55.68</td>\n",
              "    </tr>\n",
              "    <tr>\n",
              "      <th>8552</th>\n",
              "      <td>Jan 22, 2021</td>\n",
              "      <td>55.22</td>\n",
              "    </tr>\n",
              "    <tr>\n",
              "      <th>8553</th>\n",
              "      <td>Jan 25, 2021</td>\n",
              "      <td>55.44</td>\n",
              "    </tr>\n",
              "  </tbody>\n",
              "</table>\n",
              "<p>8554 rows × 2 columns</p>\n",
              "</div>"
            ],
            "text/plain": [
              "              Date  Price\n",
              "0        20-May-87  18.63\n",
              "1        21-May-87  18.45\n",
              "2        22-May-87  18.55\n",
              "3        25-May-87  18.60\n",
              "4        26-May-87  18.63\n",
              "...            ...    ...\n",
              "8549  Jan 19, 2021  55.38\n",
              "8550  Jan 20, 2021  55.66\n",
              "8551  Jan 21, 2021  55.68\n",
              "8552  Jan 22, 2021  55.22\n",
              "8553  Jan 25, 2021  55.44\n",
              "\n",
              "[8554 rows x 2 columns]"
            ]
          },
          "metadata": {
            "tags": []
          },
          "execution_count": 4
        }
      ]
    },
    {
      "cell_type": "code",
      "metadata": {
        "id": "8WhHr3nQ9ZhK"
      },
      "source": [
        "data['Date'] = pd.to_datetime(data['Date'])"
      ],
      "execution_count": null,
      "outputs": []
    },
    {
      "cell_type": "code",
      "metadata": {
        "colab": {
          "base_uri": "https://localhost:8080/",
          "height": 419
        },
        "id": "tE_JiRoQEErC",
        "outputId": "e9679e89-218d-4a65-d77a-f6ddf249e0d6"
      },
      "source": [
        "data"
      ],
      "execution_count": null,
      "outputs": [
        {
          "output_type": "execute_result",
          "data": {
            "text/html": [
              "<div>\n",
              "<style scoped>\n",
              "    .dataframe tbody tr th:only-of-type {\n",
              "        vertical-align: middle;\n",
              "    }\n",
              "\n",
              "    .dataframe tbody tr th {\n",
              "        vertical-align: top;\n",
              "    }\n",
              "\n",
              "    .dataframe thead th {\n",
              "        text-align: right;\n",
              "    }\n",
              "</style>\n",
              "<table border=\"1\" class=\"dataframe\">\n",
              "  <thead>\n",
              "    <tr style=\"text-align: right;\">\n",
              "      <th></th>\n",
              "      <th>Date</th>\n",
              "      <th>Price</th>\n",
              "    </tr>\n",
              "  </thead>\n",
              "  <tbody>\n",
              "    <tr>\n",
              "      <th>0</th>\n",
              "      <td>1987-05-20</td>\n",
              "      <td>18.63</td>\n",
              "    </tr>\n",
              "    <tr>\n",
              "      <th>1</th>\n",
              "      <td>1987-05-21</td>\n",
              "      <td>18.45</td>\n",
              "    </tr>\n",
              "    <tr>\n",
              "      <th>2</th>\n",
              "      <td>1987-05-22</td>\n",
              "      <td>18.55</td>\n",
              "    </tr>\n",
              "    <tr>\n",
              "      <th>3</th>\n",
              "      <td>1987-05-25</td>\n",
              "      <td>18.60</td>\n",
              "    </tr>\n",
              "    <tr>\n",
              "      <th>4</th>\n",
              "      <td>1987-05-26</td>\n",
              "      <td>18.63</td>\n",
              "    </tr>\n",
              "    <tr>\n",
              "      <th>...</th>\n",
              "      <td>...</td>\n",
              "      <td>...</td>\n",
              "    </tr>\n",
              "    <tr>\n",
              "      <th>8549</th>\n",
              "      <td>2021-01-19</td>\n",
              "      <td>55.38</td>\n",
              "    </tr>\n",
              "    <tr>\n",
              "      <th>8550</th>\n",
              "      <td>2021-01-20</td>\n",
              "      <td>55.66</td>\n",
              "    </tr>\n",
              "    <tr>\n",
              "      <th>8551</th>\n",
              "      <td>2021-01-21</td>\n",
              "      <td>55.68</td>\n",
              "    </tr>\n",
              "    <tr>\n",
              "      <th>8552</th>\n",
              "      <td>2021-01-22</td>\n",
              "      <td>55.22</td>\n",
              "    </tr>\n",
              "    <tr>\n",
              "      <th>8553</th>\n",
              "      <td>2021-01-25</td>\n",
              "      <td>55.44</td>\n",
              "    </tr>\n",
              "  </tbody>\n",
              "</table>\n",
              "<p>8554 rows × 2 columns</p>\n",
              "</div>"
            ],
            "text/plain": [
              "           Date  Price\n",
              "0    1987-05-20  18.63\n",
              "1    1987-05-21  18.45\n",
              "2    1987-05-22  18.55\n",
              "3    1987-05-25  18.60\n",
              "4    1987-05-26  18.63\n",
              "...         ...    ...\n",
              "8549 2021-01-19  55.38\n",
              "8550 2021-01-20  55.66\n",
              "8551 2021-01-21  55.68\n",
              "8552 2021-01-22  55.22\n",
              "8553 2021-01-25  55.44\n",
              "\n",
              "[8554 rows x 2 columns]"
            ]
          },
          "metadata": {
            "tags": []
          },
          "execution_count": 6
        }
      ]
    },
    {
      "cell_type": "code",
      "metadata": {
        "colab": {
          "base_uri": "https://localhost:8080/",
          "height": 235
        },
        "id": "3kUmWNnM5cbd",
        "outputId": "aea5639c-6373-4ba6-b44f-e30efe085ac0"
      },
      "source": [
        "df = data\n",
        "df['Date_epoch'] = pd.to_datetime(df['Date']).values.astype(np.int64)//10**6\n",
        "\n",
        "df.set_index('Date', inplace=True)\n",
        "\n",
        "df.head()"
      ],
      "execution_count": null,
      "outputs": [
        {
          "output_type": "execute_result",
          "data": {
            "text/html": [
              "<div>\n",
              "<style scoped>\n",
              "    .dataframe tbody tr th:only-of-type {\n",
              "        vertical-align: middle;\n",
              "    }\n",
              "\n",
              "    .dataframe tbody tr th {\n",
              "        vertical-align: top;\n",
              "    }\n",
              "\n",
              "    .dataframe thead th {\n",
              "        text-align: right;\n",
              "    }\n",
              "</style>\n",
              "<table border=\"1\" class=\"dataframe\">\n",
              "  <thead>\n",
              "    <tr style=\"text-align: right;\">\n",
              "      <th></th>\n",
              "      <th>Price</th>\n",
              "      <th>Date_epoch</th>\n",
              "    </tr>\n",
              "    <tr>\n",
              "      <th>Date</th>\n",
              "      <th></th>\n",
              "      <th></th>\n",
              "    </tr>\n",
              "  </thead>\n",
              "  <tbody>\n",
              "    <tr>\n",
              "      <th>1987-05-20</th>\n",
              "      <td>18.63</td>\n",
              "      <td>548467200000</td>\n",
              "    </tr>\n",
              "    <tr>\n",
              "      <th>1987-05-21</th>\n",
              "      <td>18.45</td>\n",
              "      <td>548553600000</td>\n",
              "    </tr>\n",
              "    <tr>\n",
              "      <th>1987-05-22</th>\n",
              "      <td>18.55</td>\n",
              "      <td>548640000000</td>\n",
              "    </tr>\n",
              "    <tr>\n",
              "      <th>1987-05-25</th>\n",
              "      <td>18.60</td>\n",
              "      <td>548899200000</td>\n",
              "    </tr>\n",
              "    <tr>\n",
              "      <th>1987-05-26</th>\n",
              "      <td>18.63</td>\n",
              "      <td>548985600000</td>\n",
              "    </tr>\n",
              "  </tbody>\n",
              "</table>\n",
              "</div>"
            ],
            "text/plain": [
              "            Price    Date_epoch\n",
              "Date                           \n",
              "1987-05-20  18.63  548467200000\n",
              "1987-05-21  18.45  548553600000\n",
              "1987-05-22  18.55  548640000000\n",
              "1987-05-25  18.60  548899200000\n",
              "1987-05-26  18.63  548985600000"
            ]
          },
          "metadata": {
            "tags": []
          },
          "execution_count": 7
        }
      ]
    },
    {
      "cell_type": "code",
      "metadata": {
        "id": "cFIGeqKrj9Fo"
      },
      "source": [
        "df_train = data.loc['2006-01-01':'2018-12-31']"
      ],
      "execution_count": null,
      "outputs": []
    },
    {
      "cell_type": "code",
      "metadata": {
        "colab": {
          "base_uri": "https://localhost:8080/",
          "height": 450
        },
        "id": "xFoGx_Suks9Z",
        "outputId": "9fa28f71-cea9-4dc6-ca55-33627816a54e"
      },
      "source": [
        "df_train"
      ],
      "execution_count": null,
      "outputs": [
        {
          "output_type": "execute_result",
          "data": {
            "text/html": [
              "<div>\n",
              "<style scoped>\n",
              "    .dataframe tbody tr th:only-of-type {\n",
              "        vertical-align: middle;\n",
              "    }\n",
              "\n",
              "    .dataframe tbody tr th {\n",
              "        vertical-align: top;\n",
              "    }\n",
              "\n",
              "    .dataframe thead th {\n",
              "        text-align: right;\n",
              "    }\n",
              "</style>\n",
              "<table border=\"1\" class=\"dataframe\">\n",
              "  <thead>\n",
              "    <tr style=\"text-align: right;\">\n",
              "      <th></th>\n",
              "      <th>Price</th>\n",
              "      <th>Date_epoch</th>\n",
              "    </tr>\n",
              "    <tr>\n",
              "      <th>Date</th>\n",
              "      <th></th>\n",
              "      <th></th>\n",
              "    </tr>\n",
              "  </thead>\n",
              "  <tbody>\n",
              "    <tr>\n",
              "      <th>2006-01-03</th>\n",
              "      <td>61.51</td>\n",
              "      <td>1136246400000</td>\n",
              "    </tr>\n",
              "    <tr>\n",
              "      <th>2006-01-04</th>\n",
              "      <td>61.25</td>\n",
              "      <td>1136332800000</td>\n",
              "    </tr>\n",
              "    <tr>\n",
              "      <th>2006-01-05</th>\n",
              "      <td>61.68</td>\n",
              "      <td>1136419200000</td>\n",
              "    </tr>\n",
              "    <tr>\n",
              "      <th>2006-01-06</th>\n",
              "      <td>62.43</td>\n",
              "      <td>1136505600000</td>\n",
              "    </tr>\n",
              "    <tr>\n",
              "      <th>2006-01-09</th>\n",
              "      <td>62.51</td>\n",
              "      <td>1136764800000</td>\n",
              "    </tr>\n",
              "    <tr>\n",
              "      <th>...</th>\n",
              "      <td>...</td>\n",
              "      <td>...</td>\n",
              "    </tr>\n",
              "    <tr>\n",
              "      <th>2018-12-19</th>\n",
              "      <td>55.60</td>\n",
              "      <td>1545177600000</td>\n",
              "    </tr>\n",
              "    <tr>\n",
              "      <th>2018-12-20</th>\n",
              "      <td>52.84</td>\n",
              "      <td>1545264000000</td>\n",
              "    </tr>\n",
              "    <tr>\n",
              "      <th>2018-12-21</th>\n",
              "      <td>51.93</td>\n",
              "      <td>1545350400000</td>\n",
              "    </tr>\n",
              "    <tr>\n",
              "      <th>2018-12-27</th>\n",
              "      <td>51.49</td>\n",
              "      <td>1545868800000</td>\n",
              "    </tr>\n",
              "    <tr>\n",
              "      <th>2018-12-28</th>\n",
              "      <td>50.57</td>\n",
              "      <td>1545955200000</td>\n",
              "    </tr>\n",
              "  </tbody>\n",
              "</table>\n",
              "<p>3283 rows × 2 columns</p>\n",
              "</div>"
            ],
            "text/plain": [
              "            Price     Date_epoch\n",
              "Date                            \n",
              "2006-01-03  61.51  1136246400000\n",
              "2006-01-04  61.25  1136332800000\n",
              "2006-01-05  61.68  1136419200000\n",
              "2006-01-06  62.43  1136505600000\n",
              "2006-01-09  62.51  1136764800000\n",
              "...           ...            ...\n",
              "2018-12-19  55.60  1545177600000\n",
              "2018-12-20  52.84  1545264000000\n",
              "2018-12-21  51.93  1545350400000\n",
              "2018-12-27  51.49  1545868800000\n",
              "2018-12-28  50.57  1545955200000\n",
              "\n",
              "[3283 rows x 2 columns]"
            ]
          },
          "metadata": {
            "tags": []
          },
          "execution_count": 9
        }
      ]
    },
    {
      "cell_type": "code",
      "metadata": {
        "id": "1Ne0Qa8m52nU"
      },
      "source": [
        "X = df_train['Date_epoch'].values.reshape(-1,1)\n",
        "y = df_train['Price'].values.reshape(-1,1)"
      ],
      "execution_count": null,
      "outputs": []
    },
    {
      "cell_type": "code",
      "metadata": {
        "id": "_TebvVo2gic_"
      },
      "source": [
        "from sklearn.linear_model import LinearRegression\n",
        "from sklearn.model_selection import train_test_split\n",
        "lm = LinearRegression()"
      ],
      "execution_count": null,
      "outputs": []
    },
    {
      "cell_type": "code",
      "metadata": {
        "colab": {
          "base_uri": "https://localhost:8080/"
        },
        "id": "W622FqjXgrZn",
        "outputId": "0adc017e-5452-4696-bf59-649babcab42b"
      },
      "source": [
        "from sklearn.model_selection import train_test_split\n",
        "X_train, X_test, y_train, y_test = train_test_split(X, y, test_size=0.2, random_state=4, shuffle=False)\n",
        "print ('Train set:', X_train.shape,  y_train.shape)\n",
        "print ('Test set:', X_test.shape,  y_test.shape)"
      ],
      "execution_count": null,
      "outputs": [
        {
          "output_type": "stream",
          "text": [
            "Train set: (2626, 1) (2626, 1)\n",
            "Test set: (657, 1) (657, 1)\n"
          ],
          "name": "stdout"
        }
      ]
    },
    {
      "cell_type": "code",
      "metadata": {
        "colab": {
          "base_uri": "https://localhost:8080/"
        },
        "id": "wz23pEkhgwOM",
        "outputId": "87b9f2e2-f457-4b3f-e8a4-abb2b8ee70a9"
      },
      "source": [
        "# Train the model\n",
        "from sklearn.linear_model import LinearRegression\n",
        "\n",
        "# Fit a linear regression model on the training set\n",
        "model = LinearRegression().fit(X_train, y_train)\n",
        "print (model)"
      ],
      "execution_count": null,
      "outputs": [
        {
          "output_type": "stream",
          "text": [
            "LinearRegression(copy_X=True, fit_intercept=True, n_jobs=None, normalize=False)\n"
          ],
          "name": "stdout"
        }
      ]
    },
    {
      "cell_type": "code",
      "metadata": {
        "colab": {
          "base_uri": "https://localhost:8080/"
        },
        "id": "pWc7adzXhvnM",
        "outputId": "5f549a0f-c91d-4023-a5b9-eb5e081ab838"
      },
      "source": [
        "print ('Coefficients: ', model.coef_)\n",
        "print ('Intercept: ',model.intercept_)"
      ],
      "execution_count": null,
      "outputs": [
        {
          "output_type": "stream",
          "text": [
            "Coefficients:  [[1.69528994e-11]]\n",
            "Intercept:  [61.78030437]\n"
          ],
          "name": "stdout"
        }
      ]
    },
    {
      "cell_type": "code",
      "metadata": {
        "id": "sc_NhJYyhKsp"
      },
      "source": [
        "#Prevendo valor de Y, baseado na eq encontrada\n",
        "y_pred = model.predict(X_test)"
      ],
      "execution_count": null,
      "outputs": []
    },
    {
      "cell_type": "code",
      "metadata": {
        "colab": {
          "base_uri": "https://localhost:8080/",
          "height": 496
        },
        "id": "qysESs5Kj31s",
        "outputId": "42a651ed-90a7-4f9f-d0c0-5aaa09196f7f"
      },
      "source": [
        "fig, ax = plt.subplots(figsize = (16,8))\n",
        "ax.plot(X, y, '-b', label = 'Data')\n",
        "\n",
        "# sort the values of x before line plot\n",
        "\n",
        "ax.plot(X, X*model.coef_ + model.intercept_, '-m', label = 'Fit')\n",
        "ax.legend()\n",
        "plt.show()\n"
      ],
      "execution_count": null,
      "outputs": [
        {
          "output_type": "display_data",
          "data": {
            "image/png": "[encoded data removed]",
            "text/plain": [
              "<Figure size 1152x576 with 1 Axes>"
            ]
          },
          "metadata": {
            "tags": [],
            "needs_background": "light"
          }
        }
      ]
    },
    {
      "cell_type": "code",
      "metadata": {
        "colab": {
          "base_uri": "https://localhost:8080/"
        },
        "id": "Ohg_J-Ekokb4",
        "outputId": "cb12eab2-87ab-472a-c501-a7dc99c4e0e1"
      },
      "source": [
        "from sklearn.metrics import mean_squared_error, r2_score\n",
        "\n",
        "mse = mean_squared_error(y_test, y_pred)\n",
        "print(\"MSE:\", mse)\n",
        "\n",
        "rmse = np.sqrt(mse)\n",
        "print(\"RMSE:\", rmse)\n",
        "\n",
        "r2 = r2_score(y_test, y_pred)\n",
        "print(\"R2:\", r2)"
      ],
      "execution_count": null,
      "outputs": [
        {
          "output_type": "stream",
          "text": [
            "MSE: 910.2381730242269\n",
            "RMSE: 30.170153679161576\n",
            "R2: -6.034139054373965\n"
          ],
          "name": "stdout"
        }
      ]
    },
    {
      "cell_type": "code",
      "metadata": {
        "id": "scRW477h6Tb3"
      },
      "source": [
        "df_pred = data.loc['2019-01-01':'2023-12-31']"
      ],
      "execution_count": null,
      "outputs": []
    },
    {
      "cell_type": "code",
      "metadata": {
        "colab": {
          "base_uri": "https://localhost:8080/",
          "height": 450
        },
        "id": "OXvjfzs2meF_",
        "outputId": "d2d0f8a3-69e0-49bc-b394-39485bf09930"
      },
      "source": [
        "df_pred"
      ],
      "execution_count": null,
      "outputs": [
        {
          "output_type": "execute_result",
          "data": {
            "text/html": [
              "<div>\n",
              "<style scoped>\n",
              "    .dataframe tbody tr th:only-of-type {\n",
              "        vertical-align: middle;\n",
              "    }\n",
              "\n",
              "    .dataframe tbody tr th {\n",
              "        vertical-align: top;\n",
              "    }\n",
              "\n",
              "    .dataframe thead th {\n",
              "        text-align: right;\n",
              "    }\n",
              "</style>\n",
              "<table border=\"1\" class=\"dataframe\">\n",
              "  <thead>\n",
              "    <tr style=\"text-align: right;\">\n",
              "      <th></th>\n",
              "      <th>Price</th>\n",
              "      <th>Date_epoch</th>\n",
              "    </tr>\n",
              "    <tr>\n",
              "      <th>Date</th>\n",
              "      <th></th>\n",
              "      <th></th>\n",
              "    </tr>\n",
              "  </thead>\n",
              "  <tbody>\n",
              "    <tr>\n",
              "      <th>2019-01-02</th>\n",
              "      <td>54.06</td>\n",
              "      <td>1546387200000</td>\n",
              "    </tr>\n",
              "    <tr>\n",
              "      <th>2019-01-03</th>\n",
              "      <td>53.23</td>\n",
              "      <td>1546473600000</td>\n",
              "    </tr>\n",
              "    <tr>\n",
              "      <th>2019-01-04</th>\n",
              "      <td>55.64</td>\n",
              "      <td>1546560000000</td>\n",
              "    </tr>\n",
              "    <tr>\n",
              "      <th>2019-01-07</th>\n",
              "      <td>57.10</td>\n",
              "      <td>1546819200000</td>\n",
              "    </tr>\n",
              "    <tr>\n",
              "      <th>2019-01-08</th>\n",
              "      <td>56.91</td>\n",
              "      <td>1546905600000</td>\n",
              "    </tr>\n",
              "    <tr>\n",
              "      <th>...</th>\n",
              "      <td>...</td>\n",
              "      <td>...</td>\n",
              "    </tr>\n",
              "    <tr>\n",
              "      <th>2021-01-19</th>\n",
              "      <td>55.38</td>\n",
              "      <td>1611014400000</td>\n",
              "    </tr>\n",
              "    <tr>\n",
              "      <th>2021-01-20</th>\n",
              "      <td>55.66</td>\n",
              "      <td>1611100800000</td>\n",
              "    </tr>\n",
              "    <tr>\n",
              "      <th>2021-01-21</th>\n",
              "      <td>55.68</td>\n",
              "      <td>1611187200000</td>\n",
              "    </tr>\n",
              "    <tr>\n",
              "      <th>2021-01-22</th>\n",
              "      <td>55.22</td>\n",
              "      <td>1611273600000</td>\n",
              "    </tr>\n",
              "    <tr>\n",
              "      <th>2021-01-25</th>\n",
              "      <td>55.44</td>\n",
              "      <td>1611532800000</td>\n",
              "    </tr>\n",
              "  </tbody>\n",
              "</table>\n",
              "<p>530 rows × 2 columns</p>\n",
              "</div>"
            ],
            "text/plain": [
              "            Price     Date_epoch\n",
              "Date                            \n",
              "2019-01-02  54.06  1546387200000\n",
              "2019-01-03  53.23  1546473600000\n",
              "2019-01-04  55.64  1546560000000\n",
              "2019-01-07  57.10  1546819200000\n",
              "2019-01-08  56.91  1546905600000\n",
              "...           ...            ...\n",
              "2021-01-19  55.38  1611014400000\n",
              "2021-01-20  55.66  1611100800000\n",
              "2021-01-21  55.68  1611187200000\n",
              "2021-01-22  55.22  1611273600000\n",
              "2021-01-25  55.44  1611532800000\n",
              "\n",
              "[530 rows x 2 columns]"
            ]
          },
          "metadata": {
            "tags": []
          },
          "execution_count": 19
        }
      ]
    },
    {
      "cell_type": "code",
      "metadata": {
        "id": "iGRwF5mCmjUp"
      },
      "source": [
        "X_org = df_pred['Date_epoch'].values.reshape(-1,1)\n",
        "y_org = df_pred['Price'].values.reshape(-1,1)"
      ],
      "execution_count": null,
      "outputs": []
    },
    {
      "cell_type": "code",
      "metadata": {
        "id": "O4VQj0qjmxEi"
      },
      "source": [
        "y_pred = model.predict(X_org)"
      ],
      "execution_count": null,
      "outputs": []
    },
    {
      "cell_type": "code",
      "metadata": {
        "id": "pwXsM8szp3X6",
        "colab": {
          "base_uri": "https://localhost:8080/"
        },
        "outputId": "38360cb6-30c0-4dac-cbb6-34f0d9a8ff51"
      },
      "source": [
        "y_pred"
      ],
      "execution_count": null,
      "outputs": [
        {
          "output_type": "execute_result",
          "data": {
            "text/plain": [
              "array([[87.99605095],\n",
              "       [87.99751568],\n",
              "       [87.99898041],\n",
              "       [88.0033746 ],\n",
              "       [88.00483933],\n",
              "       [88.00630406],\n",
              "       [88.00776879],\n",
              "       [88.00923352],\n",
              "       [88.01362771],\n",
              "       [88.01509245],\n",
              "       [88.01655718],\n",
              "       [88.01802191],\n",
              "       [88.01948664],\n",
              "       [88.02388083],\n",
              "       [88.02534556],\n",
              "       [88.02681029],\n",
              "       [88.02827502],\n",
              "       [88.02973975],\n",
              "       [88.03413394],\n",
              "       [88.03559867],\n",
              "       [88.0370634 ],\n",
              "       [88.03852813],\n",
              "       [88.03999286],\n",
              "       [88.04438706],\n",
              "       [88.04585179],\n",
              "       [88.04731652],\n",
              "       [88.04878125],\n",
              "       [88.05024598],\n",
              "       [88.05464017],\n",
              "       [88.0561049 ],\n",
              "       [88.05756963],\n",
              "       [88.05903436],\n",
              "       [88.06049909],\n",
              "       [88.06489328],\n",
              "       [88.06635801],\n",
              "       [88.06782274],\n",
              "       [88.06928747],\n",
              "       [88.0707522 ],\n",
              "       [88.0751464 ],\n",
              "       [88.07661113],\n",
              "       [88.07807586],\n",
              "       [88.07954059],\n",
              "       [88.08100532],\n",
              "       [88.08539951],\n",
              "       [88.08686424],\n",
              "       [88.08832897],\n",
              "       [88.0897937 ],\n",
              "       [88.09125843],\n",
              "       [88.09565262],\n",
              "       [88.09711735],\n",
              "       [88.09858208],\n",
              "       [88.10004681],\n",
              "       [88.10151154],\n",
              "       [88.10590574],\n",
              "       [88.10737047],\n",
              "       [88.1088352 ],\n",
              "       [88.11029993],\n",
              "       [88.11176466],\n",
              "       [88.11615885],\n",
              "       [88.11762358],\n",
              "       [88.11908831],\n",
              "       [88.12055304],\n",
              "       [88.12201777],\n",
              "       [88.12641196],\n",
              "       [88.12787669],\n",
              "       [88.12934142],\n",
              "       [88.13080615],\n",
              "       [88.13227089],\n",
              "       [88.13666508],\n",
              "       [88.13812981],\n",
              "       [88.13959454],\n",
              "       [88.14105927],\n",
              "       [88.142524  ],\n",
              "       [88.14691819],\n",
              "       [88.14838292],\n",
              "       [88.14984765],\n",
              "       [88.15131238],\n",
              "       [88.1571713 ],\n",
              "       [88.15863603],\n",
              "       [88.16010077],\n",
              "       [88.1615655 ],\n",
              "       [88.16303023],\n",
              "       [88.16742442],\n",
              "       [88.16888915],\n",
              "       [88.17035388],\n",
              "       [88.17181861],\n",
              "       [88.17328334],\n",
              "       [88.17767753],\n",
              "       [88.17914226],\n",
              "       [88.18060699],\n",
              "       [88.18207172],\n",
              "       [88.18353645],\n",
              "       [88.18793064],\n",
              "       [88.18939538],\n",
              "       [88.19086011],\n",
              "       [88.19232484],\n",
              "       [88.19378957],\n",
              "       [88.19818376],\n",
              "       [88.19964849],\n",
              "       [88.20111322],\n",
              "       [88.20257795],\n",
              "       [88.20404268],\n",
              "       [88.2099016 ],\n",
              "       [88.21136633],\n",
              "       [88.21283106],\n",
              "       [88.21429579],\n",
              "       [88.21868999],\n",
              "       [88.22015472],\n",
              "       [88.22161945],\n",
              "       [88.22308418],\n",
              "       [88.22454891],\n",
              "       [88.2289431 ],\n",
              "       [88.23040783],\n",
              "       [88.23187256],\n",
              "       [88.23333729],\n",
              "       [88.23480202],\n",
              "       [88.23919621],\n",
              "       [88.24066094],\n",
              "       [88.24212567],\n",
              "       [88.2435904 ],\n",
              "       [88.24505513],\n",
              "       [88.24944933],\n",
              "       [88.25091406],\n",
              "       [88.25237879],\n",
              "       [88.25384352],\n",
              "       [88.25530825],\n",
              "       [88.25970244],\n",
              "       [88.26116717],\n",
              "       [88.2626319 ],\n",
              "       [88.26409663],\n",
              "       [88.26556136],\n",
              "       [88.26995555],\n",
              "       [88.27142028],\n",
              "       [88.27288501],\n",
              "       [88.27434974],\n",
              "       [88.27581447],\n",
              "       [88.28020867],\n",
              "       [88.2816734 ],\n",
              "       [88.28313813],\n",
              "       [88.28460286],\n",
              "       [88.28606759],\n",
              "       [88.29046178],\n",
              "       [88.29192651],\n",
              "       [88.29339124],\n",
              "       [88.29485597],\n",
              "       [88.2963207 ],\n",
              "       [88.30071489],\n",
              "       [88.30217962],\n",
              "       [88.30364435],\n",
              "       [88.30510909],\n",
              "       [88.30657382],\n",
              "       [88.31096801],\n",
              "       [88.31243274],\n",
              "       [88.31389747],\n",
              "       [88.3153622 ],\n",
              "       [88.31682693],\n",
              "       [88.32122112],\n",
              "       [88.32268585],\n",
              "       [88.32415058],\n",
              "       [88.32561531],\n",
              "       [88.32708004],\n",
              "       [88.33147423],\n",
              "       [88.33293896],\n",
              "       [88.3344037 ],\n",
              "       [88.33586843],\n",
              "       [88.33733316],\n",
              "       [88.34172735],\n",
              "       [88.34319208],\n",
              "       [88.34465681],\n",
              "       [88.34612154],\n",
              "       [88.34758627],\n",
              "       [88.35198046],\n",
              "       [88.35344519],\n",
              "       [88.35490992],\n",
              "       [88.35637465],\n",
              "       [88.35783938],\n",
              "       [88.36223357],\n",
              "       [88.36369831],\n",
              "       [88.36516304],\n",
              "       [88.36662777],\n",
              "       [88.3680925 ],\n",
              "       [88.37248669],\n",
              "       [88.37395142],\n",
              "       [88.37541615],\n",
              "       [88.37688088],\n",
              "       [88.37834561],\n",
              "       [88.3827398 ],\n",
              "       [88.38420453],\n",
              "       [88.38566926],\n",
              "       [88.38713399],\n",
              "       [88.38859872],\n",
              "       [88.39299292],\n",
              "       [88.39445765],\n",
              "       [88.39592238],\n",
              "       [88.39738711],\n",
              "       [88.39885184],\n",
              "       [88.40324603],\n",
              "       [88.40471076],\n",
              "       [88.40617549],\n",
              "       [88.40764022],\n",
              "       [88.40910495],\n",
              "       [88.41349914],\n",
              "       [88.41496387],\n",
              "       [88.4164286 ],\n",
              "       [88.41789333],\n",
              "       [88.41935806],\n",
              "       [88.42375226],\n",
              "       [88.42521699],\n",
              "       [88.42668172],\n",
              "       [88.42814645],\n",
              "       [88.42961118],\n",
              "       [88.43400537],\n",
              "       [88.4354701 ],\n",
              "       [88.43693483],\n",
              "       [88.43839956],\n",
              "       [88.43986429],\n",
              "       [88.44425848],\n",
              "       [88.44572321],\n",
              "       [88.44718794],\n",
              "       [88.44865267],\n",
              "       [88.45011741],\n",
              "       [88.4545116 ],\n",
              "       [88.45597633],\n",
              "       [88.45744106],\n",
              "       [88.45890579],\n",
              "       [88.46037052],\n",
              "       [88.46476471],\n",
              "       [88.46622944],\n",
              "       [88.46769417],\n",
              "       [88.4691589 ],\n",
              "       [88.47062363],\n",
              "       [88.47501782],\n",
              "       [88.47648255],\n",
              "       [88.47794728],\n",
              "       [88.47941202],\n",
              "       [88.48087675],\n",
              "       [88.48527094],\n",
              "       [88.48673567],\n",
              "       [88.4882004 ],\n",
              "       [88.48966513],\n",
              "       [88.49112986],\n",
              "       [88.49552405],\n",
              "       [88.49698878],\n",
              "       [88.49845351],\n",
              "       [88.49991824],\n",
              "       [88.50138297],\n",
              "       [88.50577716],\n",
              "       [88.50724189],\n",
              "       [88.50870663],\n",
              "       [88.51017136],\n",
              "       [88.51163609],\n",
              "       [88.51603028],\n",
              "       [88.51749501],\n",
              "       [88.51895974],\n",
              "       [88.52042447],\n",
              "       [88.5218892 ],\n",
              "       [88.52628339],\n",
              "       [88.52774812],\n",
              "       [88.52921285],\n",
              "       [88.53067758],\n",
              "       [88.53214231],\n",
              "       [88.5365365 ],\n",
              "       [88.53800124],\n",
              "       [88.53946597],\n",
              "       [88.5409307 ],\n",
              "       [88.54239543],\n",
              "       [88.54678962],\n",
              "       [88.54825435],\n",
              "       [88.54971908],\n",
              "       [88.55118381],\n",
              "       [88.55264854],\n",
              "       [88.55704273],\n",
              "       [88.55850746],\n",
              "       [88.55997219],\n",
              "       [88.56143692],\n",
              "       [88.56290165],\n",
              "       [88.56729585],\n",
              "       [88.56876058],\n",
              "       [88.57022531],\n",
              "       [88.57169004],\n",
              "       [88.57315477],\n",
              "       [88.57754896],\n",
              "       [88.57901369],\n",
              "       [88.58047842],\n",
              "       [88.58194315],\n",
              "       [88.58340788],\n",
              "       [88.58780207],\n",
              "       [88.5892668 ],\n",
              "       [88.59073153],\n",
              "       [88.59219626],\n",
              "       [88.59366099],\n",
              "       [88.59805519],\n",
              "       [88.59951992],\n",
              "       [88.60098465],\n",
              "       [88.60244938],\n",
              "       [88.60391411],\n",
              "       [88.6083083 ],\n",
              "       [88.60977303],\n",
              "       [88.61123776],\n",
              "       [88.61270249],\n",
              "       [88.61416722],\n",
              "       [88.61856141],\n",
              "       [88.62002614],\n",
              "       [88.62149087],\n",
              "       [88.6229556 ],\n",
              "       [88.62442034],\n",
              "       [88.62881453],\n",
              "       [88.63027926],\n",
              "       [88.63174399],\n",
              "       [88.63320872],\n",
              "       [88.63467345],\n",
              "       [88.63906764],\n",
              "       [88.64053237],\n",
              "       [88.6419971 ],\n",
              "       [88.64346183],\n",
              "       [88.64492656],\n",
              "       [88.64932075],\n",
              "       [88.65078548],\n",
              "       [88.65225021],\n",
              "       [88.65371495],\n",
              "       [88.65517968],\n",
              "       [88.65957387],\n",
              "       [88.6610386 ],\n",
              "       [88.66250333],\n",
              "       [88.66396806],\n",
              "       [88.66543279],\n",
              "       [88.66982698],\n",
              "       [88.67129171],\n",
              "       [88.67275644],\n",
              "       [88.67422117],\n",
              "       [88.68154482],\n",
              "       [88.68300956],\n",
              "       [88.68447429],\n",
              "       [88.68593902],\n",
              "       [88.69033321],\n",
              "       [88.69179794],\n",
              "       [88.69326267],\n",
              "       [88.6947274 ],\n",
              "       [88.69619213],\n",
              "       [88.70058632],\n",
              "       [88.70205105],\n",
              "       [88.70351578],\n",
              "       [88.70498051],\n",
              "       [88.70644524],\n",
              "       [88.71083943],\n",
              "       [88.71230417],\n",
              "       [88.7137689 ],\n",
              "       [88.71523363],\n",
              "       [88.72109255],\n",
              "       [88.72255728],\n",
              "       [88.72402201],\n",
              "       [88.72548674],\n",
              "       [88.72695147],\n",
              "       [88.73134566],\n",
              "       [88.73281039],\n",
              "       [88.73427512],\n",
              "       [88.73573985],\n",
              "       [88.73720458],\n",
              "       [88.74306351],\n",
              "       [88.74452824],\n",
              "       [88.74599297],\n",
              "       [88.7474577 ],\n",
              "       [88.75185189],\n",
              "       [88.75331662],\n",
              "       [88.75478135],\n",
              "       [88.75624608],\n",
              "       [88.75771081],\n",
              "       [88.762105  ],\n",
              "       [88.76356973],\n",
              "       [88.76503446],\n",
              "       [88.76649919],\n",
              "       [88.76796392],\n",
              "       [88.77235812],\n",
              "       [88.77382285],\n",
              "       [88.77528758],\n",
              "       [88.77675231],\n",
              "       [88.77821704],\n",
              "       [88.78261123],\n",
              "       [88.78407596],\n",
              "       [88.78554069],\n",
              "       [88.78700542],\n",
              "       [88.78847015],\n",
              "       [88.79286434],\n",
              "       [88.79432907],\n",
              "       [88.7957938 ],\n",
              "       [88.79725853],\n",
              "       [88.79872327],\n",
              "       [88.80311746],\n",
              "       [88.80458219],\n",
              "       [88.80604692],\n",
              "       [88.80751165],\n",
              "       [88.80897638],\n",
              "       [88.81337057],\n",
              "       [88.8148353 ],\n",
              "       [88.81630003],\n",
              "       [88.81776476],\n",
              "       [88.81922949],\n",
              "       [88.82362368],\n",
              "       [88.82508841],\n",
              "       [88.82655314],\n",
              "       [88.82801788],\n",
              "       [88.82948261],\n",
              "       [88.8338768 ],\n",
              "       [88.83534153],\n",
              "       [88.83680626],\n",
              "       [88.83827099],\n",
              "       [88.83973572],\n",
              "       [88.84412991],\n",
              "       [88.84559464],\n",
              "       [88.84705937],\n",
              "       [88.8485241 ],\n",
              "       [88.84998883],\n",
              "       [88.85438302],\n",
              "       [88.85584775],\n",
              "       [88.85731249],\n",
              "       [88.85877722],\n",
              "       [88.86024195],\n",
              "       [88.86463614],\n",
              "       [88.86610087],\n",
              "       [88.8675656 ],\n",
              "       [88.86903033],\n",
              "       [88.87049506],\n",
              "       [88.87488925],\n",
              "       [88.87635398],\n",
              "       [88.87781871],\n",
              "       [88.87928344],\n",
              "       [88.88074817],\n",
              "       [88.8866071 ],\n",
              "       [88.88807183],\n",
              "       [88.88953656],\n",
              "       [88.89100129],\n",
              "       [88.89539548],\n",
              "       [88.89686021],\n",
              "       [88.89832494],\n",
              "       [88.89978967],\n",
              "       [88.9012544 ],\n",
              "       [88.90564859],\n",
              "       [88.90711332],\n",
              "       [88.90857805],\n",
              "       [88.91004278],\n",
              "       [88.91150751],\n",
              "       [88.91590171],\n",
              "       [88.91736644],\n",
              "       [88.91883117],\n",
              "       [88.9202959 ],\n",
              "       [88.92176063],\n",
              "       [88.92615482],\n",
              "       [88.92761955],\n",
              "       [88.92908428],\n",
              "       [88.93054901],\n",
              "       [88.93201374],\n",
              "       [88.93640793],\n",
              "       [88.93787266],\n",
              "       [88.93933739],\n",
              "       [88.94080212],\n",
              "       [88.94226685],\n",
              "       [88.94666105],\n",
              "       [88.94812578],\n",
              "       [88.94959051],\n",
              "       [88.95105524],\n",
              "       [88.95251997],\n",
              "       [88.95691416],\n",
              "       [88.95837889],\n",
              "       [88.95984362],\n",
              "       [88.96130835],\n",
              "       [88.96277308],\n",
              "       [88.96716727],\n",
              "       [88.968632  ],\n",
              "       [88.97009673],\n",
              "       [88.97156146],\n",
              "       [88.9730262 ],\n",
              "       [88.97742039],\n",
              "       [88.97888512],\n",
              "       [88.98034985],\n",
              "       [88.98181458],\n",
              "       [88.98327931],\n",
              "       [88.9876735 ],\n",
              "       [88.98913823],\n",
              "       [88.99060296],\n",
              "       [88.99206769],\n",
              "       [88.99353242],\n",
              "       [88.99792661],\n",
              "       [88.99939134],\n",
              "       [89.00085608],\n",
              "       [89.00232081],\n",
              "       [89.00378554],\n",
              "       [89.00817973],\n",
              "       [89.00964446],\n",
              "       [89.01110919],\n",
              "       [89.01257392],\n",
              "       [89.01403865],\n",
              "       [89.01843284],\n",
              "       [89.01989757],\n",
              "       [89.0213623 ],\n",
              "       [89.02282703],\n",
              "       [89.02429176],\n",
              "       [89.02868595],\n",
              "       [89.03015069],\n",
              "       [89.03161542],\n",
              "       [89.03308015],\n",
              "       [89.03454488],\n",
              "       [89.03893907],\n",
              "       [89.0404038 ],\n",
              "       [89.04186853],\n",
              "       [89.04333326],\n",
              "       [89.04479799],\n",
              "       [89.04919218],\n",
              "       [89.05065691],\n",
              "       [89.05212164],\n",
              "       [89.05358637],\n",
              "       [89.0594453 ],\n",
              "       [89.06091003],\n",
              "       [89.06237476],\n",
              "       [89.06383949],\n",
              "       [89.06969841],\n",
              "       [89.07116314],\n",
              "       [89.07262787],\n",
              "       [89.0740926 ],\n",
              "       [89.07555733],\n",
              "       [89.07995152],\n",
              "       [89.08141625],\n",
              "       [89.08288098],\n",
              "       [89.08434571],\n",
              "       [89.08581044],\n",
              "       [89.09020464],\n",
              "       [89.09166937],\n",
              "       [89.0931341 ],\n",
              "       [89.09459883],\n",
              "       [89.09606356],\n",
              "       [89.10045775]])"
            ]
          },
          "metadata": {
            "tags": []
          },
          "execution_count": 22
        }
      ]
    },
    {
      "cell_type": "code",
      "metadata": {
        "colab": {
          "base_uri": "https://localhost:8080/",
          "height": 513
        },
        "id": "A8SRP0jXm27-",
        "outputId": "cda849a2-88b3-4eef-9f4c-8c71d28ca388"
      },
      "source": [
        "fig, ax = plt.subplots(figsize = (16,8))\n",
        "ax.plot(X_org,y_org, '-b', label = 'Data')\n",
        "\n",
        "# sort the values of x before line plot\n",
        "\n",
        "ax.plot(X_org, X_org*model.coef_ + model.intercept_, '-m', label = 'Fit')\n",
        "plt.title('Predicition Oil Price Linear Regression')\n",
        "plt.xlabel('Date Epoch')\n",
        "plt.ylabel('Price')\n",
        "\n",
        "ax.legend()\n",
        "plt.show()\n"
      ],
      "execution_count": null,
      "outputs": [
        {
          "output_type": "display_data",
          "data": {
            "image/png": "[encoded data removed]",
            "text/plain": [
              "<Figure size 1152x576 with 1 Axes>"
            ]
          },
          "metadata": {
            "tags": [],
            "needs_background": "light"
          }
        }
      ]
    },
    {
      "cell_type": "code",
      "metadata": {
        "colab": {
          "base_uri": "https://localhost:8080/"
        },
        "id": "Q_j8Brf9m-Xk",
        "outputId": "ad1b9aee-1189-4df1-c699-61e9d306cc92"
      },
      "source": [
        "from sklearn.metrics import mean_squared_error, r2_score\n",
        "\n",
        "mse = mean_squared_error(y_org, y_pred)\n",
        "print(\"MSE:\", mse)\n",
        "\n",
        "rmse = np.sqrt(mse)\n",
        "print(\"RMSE:\", rmse)\n",
        "\n",
        "r2 = r2_score(y_org, y_pred)\n",
        "print(\"R2:\", r2)"
      ],
      "execution_count": null,
      "outputs": [
        {
          "output_type": "stream",
          "text": [
            "MSE: 1447.148892322167\n",
            "RMSE: 38.041410230460265\n",
            "R2: -6.2836694170232095\n"
          ],
          "name": "stdout"
        }
      ]
    },
    {
      "cell_type": "code",
      "metadata": {
        "id": "azcP1KVfkEnr"
      },
      "source": [
        ""
      ],
      "execution_count": null,
      "outputs": []
    }
  ]
}